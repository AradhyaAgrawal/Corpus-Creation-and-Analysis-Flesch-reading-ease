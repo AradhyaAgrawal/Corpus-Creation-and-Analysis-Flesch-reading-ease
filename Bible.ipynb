{
  "nbformat": 4,
  "nbformat_minor": 0,
  "metadata": {
    "colab": {
      "name": "Bible.ipynb",
      "provenance": []
    },
    "kernelspec": {
      "name": "python3",
      "display_name": "Python 3"
    },
    "language_info": {
      "name": "python"
    }
  },
  "cells": [
    {
      "cell_type": "code",
      "execution_count": null,
      "metadata": {
        "colab": {
          "base_uri": "https://localhost:8080/"
        },
        "id": "J2LpxMGo7uwN",
        "outputId": "88c945e7-3410-40cf-82f4-ac0ccbfc225d"
      },
      "outputs": [
        {
          "output_type": "execute_result",
          "data": {
            "text/plain": [
              "True"
            ]
          },
          "metadata": {},
          "execution_count": 1
        }
      ],
      "source": [
        "import nltk\n",
        "nltk.download('book', quiet = True)"
      ]
    },
    {
      "cell_type": "code",
      "source": [
        "nltk.download('averaged_perceptron_tagger', quiet=True)\n",
        "nltk.download('punkt', quiet=True)"
      ],
      "metadata": {
        "colab": {
          "base_uri": "https://localhost:8080/"
        },
        "id": "EEgWzd3U-y1p",
        "outputId": "a2b456ca-c375-4b72-f1b8-d75755e49f01"
      },
      "execution_count": null,
      "outputs": [
        {
          "output_type": "execute_result",
          "data": {
            "text/plain": [
              "True"
            ]
          },
          "metadata": {},
          "execution_count": 2
        }
      ]
    },
    {
      "cell_type": "code",
      "source": [
        "import requests\n",
        "from urllib.parse import urlsplit\n",
        "import urllib\n",
        "from bs4 import BeautifulSoup"
      ],
      "metadata": {
        "id": "ByTvDOeZ-9By"
      },
      "execution_count": null,
      "outputs": []
    },
    {
      "cell_type": "code",
      "source": [
        "tagger = nltk.tag.perceptron.PerceptronTagger()\n",
        "url = 'https://www.bible.com/bible/111/GEN.INTRO1.NIV'\n",
        " \n",
        "soup = BeautifulSoup(requests.get(url).text)\n",
        "# print(soup)\n",
        "for p in soup.find_all('div', class_='bkGEN'):\n",
        "  print(p)\n",
        "\n",
        "  \n"
      ],
      "metadata": {
        "id": "zASLMirL_CJf"
      },
      "execution_count": null,
      "outputs": []
    },
    {
      "cell_type": "code",
      "source": [
        "soup"
      ],
      "metadata": {
        "colab": {
          "base_uri": "https://localhost:8080/"
        },
        "id": "C41VeyPCA4PK",
        "outputId": "9147d91f-2ea9-44e5-944b-530945231b69"
      },
      "execution_count": null,
      "outputs": [
        {
          "output_type": "execute_result",
          "data": {
            "text/plain": [
              "<!DOCTYPE html>\n",
              "<!--[if lt IE 7]> <html class=\"no-js ie6 oldie\" lang=\"en-US\"> <![endif]--><!--[if IE 7]>    <html class=\"no-js ie7 oldie\" lang=\"en-US\"> <![endif]--><!--[if IE 8]>    <html class=\"no-js ie8 oldie\" lang=\"en-US\"> <![endif]--><!--[if gt IE 8]><!--><html class=\"no-js\" lang=\"en-US\"> <!--<![endif]-->\n",
              "<head>\n",
              "<title>Please Wait... | Cloudflare</title>\n",
              "<meta id=\"captcha-bypass\" name=\"captcha-bypass\"/>\n",
              "<meta charset=\"utf-8\"/>\n",
              "<meta content=\"text/html; charset=utf-8\" http-equiv=\"Content-Type\"/>\n",
              "<meta content=\"IE=Edge,chrome=1\" http-equiv=\"X-UA-Compatible\"/>\n",
              "<meta content=\"noindex, nofollow\" name=\"robots\"/>\n",
              "<meta content=\"width=device-width,initial-scale=1\" name=\"viewport\"/>\n",
              "<link href=\"/cdn-cgi/styles/cf.errors.css\" id=\"cf_styles-css\" media=\"screen,projection\" rel=\"stylesheet\" type=\"text/css\"/>\n",
              "<!--[if lt IE 9]><link rel=\"stylesheet\" id='cf_styles-ie-css' href=\"/cdn-cgi/styles/cf.errors.ie.css\" type=\"text/css\" media=\"screen,projection\" /><![endif]-->\n",
              "<style type=\"text/css\">body{margin:0;padding:0}</style>\n",
              "<!--[if gte IE 10]><!-->\n",
              "<script>\n",
              "  if (!navigator.cookieEnabled) {\n",
              "    window.addEventListener('DOMContentLoaded', function () {\n",
              "      var cookieEl = document.getElementById('cookie-alert');\n",
              "      cookieEl.style.display = 'block';\n",
              "    })\n",
              "  }\n",
              "</script>\n",
              "<!--<![endif]-->\n",
              "<script type=\"text/javascript\">\n",
              "    //<![CDATA[\n",
              "    (function(){\n",
              "      window._cf_chl_opt={\n",
              "        cvId: \"2\",\n",
              "        cType: \"managed\",\n",
              "        cNounce: \"75816\",\n",
              "        cRay: \"6bb130296f5839c6\",\n",
              "        cHash: \"8fc8f0554a0599f\",\n",
              "        cPMDTk: \"fC7DKgTm0CPZWFLrxr_1goCwjgKRHngtCRr7SHkqz5Y-1639083890-0-gaNycGzNBz0\",\n",
              "        cFPWv: \"b\",\n",
              "        cTTimeMs: \"1000\",\n",
              "        cLt: \"n\",\n",
              "        cRq: {\n",
              "          ru: \"aHR0cHM6Ly93d3cuYmlibGUuY29tL2JpYmxlLzExMS9HRU4uSU5UUk8xLk5JVg==\",\n",
              "          ra: \"cHl0aG9uLXJlcXVlc3RzLzIuMjMuMA==\",\n",
              "          rm: \"R0VU\",\n",
              "          d: \"OW5v/eodzfVAi5GuHI+4rCKtmp5VPIUWoTgir9qfS/7GSFVlKX8La/9SQ1Oh5HRhuT4R19UV5aoXgpulK11FR2DsuR8tS9hDTBb7HQus0YdeVPor0FHDEVBFv/Cm8md/oPc5E25MDy5WBMu7GqoGy3XmUA29d8WiVU8JvBSijmiGkdwQGui2tt88Tx3bf/qryejb6/0wIHaJoOAdfV6LSoBc7KuyL1j1+eu2V2DAMomreWxfysysoMQN9jmxn8kAhJgGU0MYWQ6vV9OFRE4HBmQ++v0MEE1LqVgd84MdFC5eddAoCSkX82vGBkHihcV/Vgt4iKuKrqDqEyMnJyX+GV2qtLcyY5r125zMmMqpVpLk2qiF8MftpXxNZj/v93F9nnQ7Y7cP+q2ZhDeEnxl8bQFdBrtpw+MKdNeFxl3YvnLhxD6oGo2kPgPU2LOGTf0NDLtRPGIpzE+6K1gP9aD0r/qfRjXhBNM205BRqsP+2gEopTNS6MOyBvqvIBRZW04jnGC264uj4WZuEAKwvlB2tWDguxRmI9DzAV/fRZe65ZkryYXUlIAGqmWNgTeV03Wnxkm1cspDyRRCJKHv1natIjb7bfPPP+5vOYpMFIWh7zjavlbroSTuoyMMRktq7RFf\",\n",
              "          t: \"MTYzOTA4Mzg5MC4xNTEwMDA=\",\n",
              "          m: \"oDhnQziEjYtT0e7RhB0MJcrIdW+tpsBVvRn1UHrGsyo=\",\n",
              "          i1: \"kBiGJJGEQfqeYaK5ovk8Dw==\",\n",
              "          i2: \"yeIcjzJw5dfDnaD6b+z6nA==\",\n",
              "          zh: \"FFw8npUixr+AeEVLi3mOZMuLIYAddhTPPA2WxzYQlyo=\",\n",
              "          uh: \"7miS0Xxj9JuMfUL1dJ1m1OOYUPnyhcctTsOqdlLYMgc=\",\n",
              "          hh: \"jqieqyQDWEGAetZ0cpiLHMLbP5AShDfq8kUMciTNax8=\",\n",
              "        }\n",
              "      };\n",
              "    }());\n",
              "    //]]>\n",
              "    </script>\n",
              "<style type=\"text/css\">\n",
              "  #cf-wrapper #spinner {width:69px; margin:  auto;}\n",
              "  #cf-wrapper #cf-please-wait{text-align:center}\n",
              "  .attribution {margin-top: 32px;}\n",
              "  .bubbles { background-color: #f58220; width:20px; height: 20px; margin:2px; border-radius:100%; display:inline-block; }\n",
              "  #cf-wrapper #challenge-form { padding-top:25px; padding-bottom:25px; }\n",
              "  #cf-hcaptcha-container { text-align:center;}\n",
              "  #cf-hcaptcha-container iframe { display: inline-block;}\n",
              "  @keyframes fader     { 0% {opacity: 0.2;} 50% {opacity: 1.0;} 100% {opacity: 0.2;} }\n",
              "  #cf-wrapper #cf-bubbles { width:69px; }\n",
              "  @-webkit-keyframes fader { 0% {opacity: 0.2;} 50% {opacity: 1.0;} 100% {opacity: 0.2;} }\n",
              "  #cf-bubbles > .bubbles { animation: fader 1.6s infinite;}\n",
              "  #cf-bubbles > .bubbles:nth-child(2) { animation-delay: .2s;}\n",
              "  #cf-bubbles > .bubbles:nth-child(3) { animation-delay: .4s;}\n",
              "</style>\n",
              "</head>\n",
              "<body>\n",
              "<div id=\"cf-wrapper\">\n",
              "<div class=\"cf-alert cf-alert-error cf-cookie-error\" data-translate=\"enable_cookies\" id=\"cookie-alert\">Please enable cookies.</div>\n",
              "<div class=\"cf-error-details-wrapper\" id=\"cf-error-details\">\n",
              "<div class=\"cf-wrapper cf-header cf-error-overview\">\n",
              "<h1 data-translate=\"managed_challenge_headline\">Please wait...</h1>\n",
              "<h2 class=\"cf-subheadline\"><span data-translate=\"managed_checking_msg\">We are checking your browser...</span> www.bible.com</h2>\n",
              "</div>\n",
              "<div class=\"cf-section cf-highlight cf-captcha-container\">\n",
              "<div class=\"cf-wrapper\">\n",
              "<div class=\"cf-columns two\">\n",
              "<div class=\"cf-column\">\n",
              "<div class=\"cf-highlight-inverse cf-form-stacked\">\n",
              "<form action=\"/bible/111/GEN.INTRO1.NIV?__cf_chl_f_tk=fC7DKgTm0CPZWFLrxr_1goCwjgKRHngtCRr7SHkqz5Y-1639083890-0-gaNycGzNBz0\" class=\"challenge-form managed-form\" enctype=\"application/x-www-form-urlencoded\" id=\"challenge-form\" method=\"POST\">\n",
              "<div id=\"cf-please-wait\">\n",
              "<div id=\"spinner\">\n",
              "<div id=\"cf-bubbles\">\n",
              "<div class=\"bubbles\"></div>\n",
              "<div class=\"bubbles\"></div>\n",
              "<div class=\"bubbles\"></div>\n",
              "</div>\n",
              "</div>\n",
              "<p data-translate=\"please_wait\" id=\"cf-spinner-please-wait\">Please stand by, while we are checking your browser...</p>\n",
              "<p data-translate=\"redirecting\" id=\"cf-spinner-redirecting\" style=\"display:none\">Redirecting...</p>\n",
              "</div>\n",
              "<input name=\"md\" type=\"hidden\" value=\"c6hwJcbCdOhUkajEkjusZ5sDjEvLlmZgpTLZ2Rnj2Qk-1639083890-0-AfL3_jDF5BfXSLzsFwOqCsAqDdIUUZ-NKc3r_GHOrmrPAUwTMkXShvHcvWgYhjkBgjXLejAVJbWlyz4ft8W2rr7uQ4yb4-OPaEQmMxgtaxumCjPEKMXdd3HBBWjQLGArs8KfUfHnjkx8830cfYmz8zXmVohYyvt5OHawgTdfzd1TRw0JgPJP2g0qykifLYzmWmagqVdW22Sdw26nNSj8DPDLI24MMmaXOF1KAZQ5FNauO7HQqseJaf4NtyXDbE9df2xolCJg_RhQZylI7vtUoKiLjmqD88i9o93pgzfXAZru2KkJxcMLkG21ChSV4u8zn_hPHAsDpQbgUCkSngENoYkcuCjkGeH18xcOuGt3i8Jh6QhaT2B2Untux5IqCF5efDbpN_36UMwgmEYr4oWA7m4Mw4p6d9ked0bjsgpquq7Q6K7Wdb4rHYuDdxMThRWo2eq1VhaFTBh7hYIxvt9jTPeeUGBYQHY6GxyitqU6cMH2cHnJLepq5oRX9MJYJtk4knDevIuOL4wQSf-i8d2csiKMVwoPYFw7SdivQzup0Jv4av_svMYCnv3dPhjY8cLyDP_ZfPmzhVgjAwMkyII4nGVpnwkLcMQwIPI-O0Ly0Qs0LGtrSxt5yiN3fLNKN4zF2zuhb3wxdDlA1R9kPD_L79aGCQXV5KJGZElx_DG0ejFNtNOF2tJkhnG93c08XQPVx6nyiiyxSIAzIBlWxD4WYi40aNUhL9EiWXSsmkmAIZXAd-yQm8VLnIawM0OI0eQP3I0ijwKEwFXsZcXuUhkeNUIFC5HwxgrmFqpDYianyxM4lZoN19QgkseJ4iUutTG7luNHXX6wqa13f538qelx99_JxWtiIXwuy-PqIy4mkWlKpMEok529wGjMPTE1rs7F0BF8D5_SjQOMjA3A5f8DXj8\"/>\n",
              "<input name=\"r\" type=\"hidden\" value=\"oaqiLgjAbbmQ_0Qdk7MESG5h8.GkdeKxbUZVO3.4oKQ-1639083890-0-AZ5ljwppqx4g2EVGSqodssPqEBYZ9cs/miCyubGALRFN4CZVK5P1iM0lPelgAJukNvJWtrsuyde9uvIKthw75hDsPOaJb/NTw9DfRe/XHSAgK9Tg4bOwLXbruILryRwhVtD3xfcWV7PQB6VLdJOfxDN/i+QcNQYCVNTcToF4ZRYeOKc71pGIe0rMPNHK2qD/XISE32S5puEFLD4/+vFLyKVgAt851APgQyKvJiYieASvHL8NRF9T39LaCsDSGAZc3XOs5+6tvUyRbtXkYXToB4cKc6NMqXU1Do/x5DKJVFaucAfVhy+ts8TZ8C5Z4Pd8dnklSto2h+UB8YjSbOXAfbdwSeKiZf1LN5P1FpcUl+TuuT+Wb3vMPGAUFfSERr8CCn5YprD4ic6wo5wevsmtci7P93T9mVMttjVSB+nYVEQFaPQoviWklBbBZ+9UBgu5VySJJQREjLKBGbPVUN01bfbyQ0xZo4bNQKRMcu2Z3io7lneXGRgfwQPNmoxC1kRpzF875yKZchIq4sh+LADWXM5M8Wyvt2+m2C7oV8HBj64D3JMrkXC3fYxBHIfwSFZ5BNoFOg5ZkPK5+8e5lKfNAlHwTmrmzDc9RmEVXx/ETpO12NDhOPQVIqjEr22vXBQ0QtwEKIk9PRyUS5u5B6GMQXOU37e4+6k5fPn12SWsBzT56gXBrDHjQGfDxYfVAJQg2uOIUcX+ak7B3vqmfs/S0dLYeM5WGaPRh+vibI6Jw3GELC4Zio5AtlTBNykUxEEnWExS5kjWGU8R7kcmkP19BSAVa9eXSCBoe52h5YiacrujiG7Wc/3+0GbLT85D3Y8ohmAGg4jV02oBMVwJnLCNx6qwZyCbaPaEmKMq3MCCVKInbwqyCJkxpcH/uJOrMlSzVgDsFCqvUfg8c+AUUa3ToNw+mkK4hzFzENQ32waJxAc6NaUZWZ52wPAIeyyhk5SynDB4j7kSObRS28ZwDrHTsKEPG+07s1yAZUfNrSxnn+c0k60BSGw7fE9ntR9uDIs+CGzg0G6Zkh5MBqu+0SdX8q7cs87JVRjCeKOlirBawYcn3ZKCnI2Cg2PScdWm4+seuaN1ZREw1zHV0iZPkQnxpPfQ7jsY92g6LxIMqkYp7uVlBRI1tU8CjLRXXVn3YHliglNLNQMmtEEDcHfQmdy7aTs/d7mVyxsdScySUB3QWveMBaj7Fo8sgAjIonKerKYCkVhIFERyQ0zzR7UXz/+HDSuw+D5KG5cHgSKpYXDPjHwsxbB0s/lXzhKA+Evlpas+EOwfQNz9Uc/riOEsKMXbFNOGGGfKAmEaL3l7vfOB36HUteuRWYbcO2TirS8ubYNx3jxvo/vpfJF5jn2C0rgESD2BkiFwOZI+ui58D96v3j2mqL2BOHNDRPIohIRm568XHBrO4+nVHm8zPn9gHs5f3tWfMGwGHz//OTxHNOt1yJykuPYz5nxmvkbGqJrk6wmpNDB79+LBdV+axaXHIBv831qA7H3rBnB6SOOtUmwVFfvMxqhLscopALotrWtbVpc3xb3hx4lBoZaUYK1Ih/JKEeVvgUuC6bdVVnCsBPBnM2PO39RjvwzyE5fdPZhdqqq2X3wZzm9n4+g0UmbpLxlNHvPKfWUixLn3Ty8iV6SvCP8dKwt0Oqa0yvRiHmtT5sb5k0M2kfQOHtnVoAFSAXgyB6lY6c0Gy78ZHr/G6C4QRgW7cguoGcjClaSEwwlKBtEQgdcbpiTkMUGubpKmJCU6GmRTpr88bSXw26wB1+O8jhNMdz+FXufsdKJLIJvbXm5hxw==\"/>\n",
              "<input name=\"cf_captcha_kind\" type=\"hidden\" value=\"h\"/>\n",
              "<input name=\"vc\" type=\"hidden\" value=\"300ed71ce3a67a6dce79e35abe6f84c2\"/>\n",
              "<noscript class=\"cf-captcha-info\" id=\"cf-captcha-bookmark\">\n",
              "<h1 data-translate=\"turn_on_js\" style=\"color:#bd2426;\">Please turn JavaScript on and reload the page.</h1>\n",
              "</noscript>\n",
              "<div class=\"cookie-warning\" data-translate=\"turn_on_cookies\" id=\"no-cookie-warning\" style=\"display:none\">\n",
              "<p data-translate=\"turn_on_cookies\" style=\"color:#bd2426;\">Please enable Cookies and reload the page.</p>\n",
              "</div>\n",
              "<script type=\"text/javascript\">\n",
              "  //<![CDATA[\n",
              "    var a = function() {try{return !!window.addEventListener} catch(e) {return !1} },\n",
              "      b = function(b, c) {a() ? document.addEventListener(\"DOMContentLoaded\", b, c) : document.attachEvent(\"onreadystatechange\", b)};\n",
              "      b(function(){\n",
              "        var cookiesEnabled=(navigator.cookieEnabled)? true : false;\n",
              "        if(!cookiesEnabled){\n",
              "          var q = document.getElementById('no-cookie-warning');q.style.display = 'block';\n",
              "        }\n",
              "      });\n",
              "  //]]>\n",
              "  </script>\n",
              "<div id=\"trk_captcha_js\" style=\"background-image:url('/cdn-cgi/images/trace/captcha/nojs/h/transparent.gif?ray=6bb130296f5839c6')\"></div>\n",
              "</form>\n",
              "<script type=\"text/javascript\">\n",
              "    //<![CDATA[\n",
              "    (function(){\n",
              "        var isIE = /(MSIE|Trident\\/|Edge\\/)/i.test(window.navigator.userAgent);\n",
              "        var trkjs = isIE ? new Image() : document.createElement('img');\n",
              "        trkjs.setAttribute(\"src\", \"/cdn-cgi/images/trace/managed/js/transparent.gif?ray=6bb130296f5839c6\");\n",
              "        trkjs.id = \"trk_managed_js\";\n",
              "        trkjs.setAttribute(\"alt\", \"\");\n",
              "        document.body.appendChild(trkjs);\n",
              "        var cpo=document.createElement('script');\n",
              "        cpo.type='text/javascript';\n",
              "        cpo.src=\"/cdn-cgi/challenge-platform/h/b/orchestrate/managed/v1?ray=6bb130296f5839c6\";\n",
              "        \n",
              "        if (window._cf_chl_opt.cPMDTk && window.history && window.history.replaceState && window.URLSearchParams) {\n",
              "          var ogU = location.pathname + location.search;\n",
              "          var p = new URLSearchParams(location.search);\n",
              "          p.set('__cf_chl_rt_tk', window._cf_chl_opt.cPMDTk);\n",
              "          history.replaceState(null, null, location.pathname + '?' + p.toString());\n",
              "          cpo.onload = function() {\n",
              "            history.replaceState(null, null, ogU);\n",
              "          };\n",
              "        }\n",
              "        \n",
              "        document.getElementsByTagName('head')[0].appendChild(cpo);\n",
              "    }());\n",
              "    //]]>\n",
              "    </script>\n",
              "</div>\n",
              "</div>\n",
              "<div class=\"cf-column\">\n",
              "<div class=\"cf-screenshot-container\">\n",
              "<span class=\"cf-no-screenshot\"></span>\n",
              "</div>\n",
              "</div>\n",
              "</div>\n",
              "</div>\n",
              "</div>\n",
              "<div class=\"cf-section cf-wrapper\">\n",
              "<div class=\"cf-columns two\">\n",
              "<div class=\"cf-column\">\n",
              "<h2 data-translate=\"why_captcha_headline\">Why do I have to complete a CAPTCHA?</h2>\n",
              "<p data-translate=\"why_captcha_detail\">Completing the CAPTCHA proves you are a human and gives you temporary access to the web property.</p>\n",
              "</div>\n",
              "<div class=\"cf-column\">\n",
              "<h2 data-translate=\"resolve_captcha_headline\">What can I do to prevent this in the future?</h2>\n",
              "<p data-translate=\"resolve_captcha_antivirus\">If you are on a personal connection, like at home, you can run an anti-virus scan on your device to make sure it is not infected with malware.</p>\n",
              "<p data-translate=\"resolve_captcha_network\">If you are at an office or shared network, you can ask the network administrator to run a scan across the network looking for misconfigured or infected devices.</p>\n",
              "</div>\n",
              "</div>\n",
              "</div>\n",
              "<div class=\"cf-error-footer cf-wrapper w-240 lg:w-full py-10 sm:py-4 sm:px-8 mx-auto text-center sm:text-left border-solid border-0 border-t border-gray-300\">\n",
              "<p class=\"text-13\">\n",
              "<span class=\"cf-footer-item sm:block sm:mb-1\">Cloudflare Ray ID: <strong class=\"font-semibold\">6bb130296f5839c6</strong></span>\n",
              "<span class=\"cf-footer-separator sm:hidden\">•</span>\n",
              "<span class=\"cf-footer-item sm:block sm:mb-1\"><span>Your IP</span>: 34.83.102.78</span>\n",
              "<span class=\"cf-footer-separator sm:hidden\">•</span>\n",
              "<span class=\"cf-footer-item sm:block sm:mb-1\"><span>Performance &amp; security by</span> <a href=\"https://www.cloudflare.com/5xx-error-landing\" id=\"brand_link\" rel=\"noopener noreferrer\" target=\"_blank\">Cloudflare</a></span>\n",
              "</p>\n",
              "</div><!-- /.error-footer -->\n",
              "</div>\n",
              "</div>\n",
              "<script type=\"text/javascript\">\n",
              "  window._cf_translation = {};\n",
              "  \n",
              "  \n",
              "</script>\n",
              "</body>\n",
              "</html>"
            ]
          },
          "metadata": {},
          "execution_count": 17
        }
      ]
    },
    {
      "cell_type": "code",
      "source": [],
      "metadata": {
        "id": "R6zttuseAAeF"
      },
      "execution_count": null,
      "outputs": []
    }
  ]
}