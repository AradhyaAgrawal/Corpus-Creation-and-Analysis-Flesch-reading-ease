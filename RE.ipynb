{
  "nbformat": 4,
  "nbformat_minor": 0,
  "metadata": {
    "colab": {
      "name": "RE.ipynb",
      "provenance": []
    },
    "kernelspec": {
      "name": "python3",
      "display_name": "Python 3"
    },
    "language_info": {
      "name": "python"
    }
  },
  "cells": [
    {
      "cell_type": "code",
      "execution_count": null,
      "metadata": {
        "colab": {
          "base_uri": "https://localhost:8080/"
        },
        "id": "xXfwY7r42kHl",
        "outputId": "14c2acbd-dd33-4207-d882-2535e05ca704"
      },
      "outputs": [
        {
          "output_type": "execute_result",
          "data": {
            "text/plain": [
              "True"
            ]
          },
          "metadata": {},
          "execution_count": 1
        }
      ],
      "source": [
        "import nltk\n",
        "nltk.download('book', quiet= True)"
      ]
    },
    {
      "cell_type": "code",
      "source": [
        "!unzip -q Bhagavad_Gita_text_only.zip"
      ],
      "metadata": {
        "id": "lpWP5eEg6pZv"
      },
      "execution_count": null,
      "outputs": []
    },
    {
      "cell_type": "code",
      "source": [
        "BGita = nltk.corpus.reader.TaggedCorpusReader('Bhagavad_Gita_text_only', r'.*\\.txt')\n"
      ],
      "metadata": {
        "id": "1PuOiB667xeV"
      },
      "execution_count": null,
      "outputs": []
    },
    {
      "cell_type": "code",
      "source": [
        "!unzip -q bible_text_only.zip\n",
        "bible = nltk.corpus.reader.TaggedCorpusReader('bible_text_only', r'.*\\.txt')"
      ],
      "metadata": {
        "id": "8KrpeM1WAri1"
      },
      "execution_count": null,
      "outputs": []
    },
    {
      "cell_type": "code",
      "source": [
        "!unzip -q quran_text_only.zip\n",
        "quran = nltk.corpus.reader.TaggedCorpusReader('quran_text_only', r'.*\\.txt')"
      ],
      "metadata": {
        "id": "JAbEzsjBCAp2"
      },
      "execution_count": null,
      "outputs": []
    },
    {
      "cell_type": "code",
      "source": [
        "words_bg = list(iter(BGita.words()))\n",
        "words_bible = list(iter(bible.words()))\n",
        "words_quran = list(iter(quran.words()))"
      ],
      "metadata": {
        "id": "W4gMwmOdCzzl"
      },
      "execution_count": null,
      "outputs": []
    },
    {
      "cell_type": "code",
      "source": [
        "total_words_bg = len(words_bg)\n",
        "total_words_bg"
      ],
      "metadata": {
        "id": "ynmxUGO8DzWp",
        "colab": {
          "base_uri": "https://localhost:8080/"
        },
        "outputId": "468656e2-9306-40f2-a549-4742645faa31"
      },
      "execution_count": null,
      "outputs": [
        {
          "output_type": "execute_result",
          "data": {
            "text/plain": [
              "22603"
            ]
          },
          "metadata": {},
          "execution_count": 11
        }
      ]
    },
    {
      "cell_type": "code",
      "source": [
        "total_words_bible = len(words_bible)\n",
        "total_words_bible"
      ],
      "metadata": {
        "id": "4f6q2slXFDYQ",
        "colab": {
          "base_uri": "https://localhost:8080/"
        },
        "outputId": "248477fb-9b49-4d7d-f41d-3e5252d22844"
      },
      "execution_count": null,
      "outputs": [
        {
          "output_type": "execute_result",
          "data": {
            "text/plain": [
              "915531"
            ]
          },
          "metadata": {},
          "execution_count": 12
        }
      ]
    },
    {
      "cell_type": "code",
      "source": [
        "total_words_quran = len(words_quran)\n",
        "total_words_quran"
      ],
      "metadata": {
        "id": "qxOumtDqFQhl",
        "colab": {
          "base_uri": "https://localhost:8080/"
        },
        "outputId": "1ec6578f-4b53-4ff2-9a05-e7139a844625"
      },
      "execution_count": null,
      "outputs": [
        {
          "output_type": "execute_result",
          "data": {
            "text/plain": [
              "174736"
            ]
          },
          "metadata": {},
          "execution_count": 13
        }
      ]
    },
    {
      "cell_type": "code",
      "source": [
        "BGita.fileids()"
      ],
      "metadata": {
        "colab": {
          "base_uri": "https://localhost:8080/"
        },
        "id": "rMQ4NLynFVvp",
        "outputId": "95a26183-dab4-4732-d473-dd4d1e811cfa"
      },
      "execution_count": null,
      "outputs": [
        {
          "output_type": "execute_result",
          "data": {
            "text/plain": [
              "['Chapter1.txt',\n",
              " 'Chapter10.txt',\n",
              " 'Chapter11.txt',\n",
              " 'Chapter12.txt',\n",
              " 'Chapter13.txt',\n",
              " 'Chapter14.txt',\n",
              " 'Chapter15.txt',\n",
              " 'Chapter16.txt',\n",
              " 'Chapter17.txt',\n",
              " 'Chapter18.txt',\n",
              " 'Chapter2.txt',\n",
              " 'Chapter3.txt',\n",
              " 'Chapter4.txt',\n",
              " 'Chapter5.txt',\n",
              " 'Chapter6.txt',\n",
              " 'Chapter7.txt',\n",
              " 'Chapter8.txt',\n",
              " 'Chapter9.txt']"
            ]
          },
          "metadata": {},
          "execution_count": 14
        }
      ]
    },
    {
      "cell_type": "code",
      "source": [
        "bible.fileids()"
      ],
      "metadata": {
        "colab": {
          "base_uri": "https://localhost:8080/"
        },
        "id": "NgsvFBITF1qc",
        "outputId": "b1ecf505-1339-488e-f527-185f0b9f7782"
      },
      "execution_count": null,
      "outputs": [
        {
          "output_type": "execute_result",
          "data": {
            "text/plain": [
              "['Bib.txt']"
            ]
          },
          "metadata": {},
          "execution_count": 15
        }
      ]
    },
    {
      "cell_type": "code",
      "source": [
        "quran.fileids()"
      ],
      "metadata": {
        "colab": {
          "base_uri": "https://localhost:8080/"
        },
        "id": "Ke9tTAKyNyTi",
        "outputId": "146b1df4-8c0a-4dcd-f715-cdceb228f7c3"
      },
      "execution_count": null,
      "outputs": [
        {
          "output_type": "execute_result",
          "data": {
            "text/plain": [
              "['Chapter001.txt',\n",
              " 'Chapter002.txt',\n",
              " 'Chapter003.txt',\n",
              " 'Chapter004.txt',\n",
              " 'Chapter005.txt',\n",
              " 'Chapter006.txt',\n",
              " 'Chapter007.txt',\n",
              " 'Chapter008.txt',\n",
              " 'Chapter009.txt',\n",
              " 'Chapter010.txt',\n",
              " 'Chapter011.txt',\n",
              " 'Chapter012.txt',\n",
              " 'Chapter013.txt',\n",
              " 'Chapter014.txt',\n",
              " 'Chapter015.txt',\n",
              " 'Chapter016.txt',\n",
              " 'Chapter017.txt',\n",
              " 'Chapter018.txt',\n",
              " 'Chapter019.txt',\n",
              " 'Chapter020.txt',\n",
              " 'Chapter021.txt',\n",
              " 'Chapter022.txt',\n",
              " 'Chapter023.txt',\n",
              " 'Chapter024.txt',\n",
              " 'Chapter025.txt',\n",
              " 'Chapter026.txt',\n",
              " 'Chapter027.txt',\n",
              " 'Chapter028.txt',\n",
              " 'Chapter029.txt',\n",
              " 'Chapter030.txt',\n",
              " 'Chapter031.txt',\n",
              " 'Chapter032.txt',\n",
              " 'Chapter033.txt',\n",
              " 'Chapter034.txt',\n",
              " 'Chapter035.txt',\n",
              " 'Chapter036.txt',\n",
              " 'Chapter037.txt',\n",
              " 'Chapter038.txt',\n",
              " 'Chapter039.txt',\n",
              " 'Chapter040.txt',\n",
              " 'Chapter041.txt',\n",
              " 'Chapter042.txt',\n",
              " 'Chapter043.txt',\n",
              " 'Chapter044.txt',\n",
              " 'Chapter045.txt',\n",
              " 'Chapter046.txt',\n",
              " 'Chapter047.txt',\n",
              " 'Chapter048.txt',\n",
              " 'Chapter049.txt',\n",
              " 'Chapter050.txt',\n",
              " 'Chapter051.txt',\n",
              " 'Chapter052.txt',\n",
              " 'Chapter053.txt',\n",
              " 'Chapter054.txt',\n",
              " 'Chapter055.txt',\n",
              " 'Chapter056.txt',\n",
              " 'Chapter057.txt',\n",
              " 'Chapter058.txt',\n",
              " 'Chapter059.txt',\n",
              " 'Chapter060.txt',\n",
              " 'Chapter061.txt',\n",
              " 'Chapter062.txt',\n",
              " 'Chapter063.txt',\n",
              " 'Chapter064.txt',\n",
              " 'Chapter065.txt',\n",
              " 'Chapter066.txt',\n",
              " 'Chapter067.txt',\n",
              " 'Chapter068.txt',\n",
              " 'Chapter069.txt',\n",
              " 'Chapter070.txt',\n",
              " 'Chapter071.txt',\n",
              " 'Chapter072.txt',\n",
              " 'Chapter073.txt',\n",
              " 'Chapter074.txt',\n",
              " 'Chapter075.txt',\n",
              " 'Chapter076.txt',\n",
              " 'Chapter077.txt',\n",
              " 'Chapter078.txt',\n",
              " 'Chapter079.txt',\n",
              " 'Chapter080.txt',\n",
              " 'Chapter081.txt',\n",
              " 'Chapter082.txt',\n",
              " 'Chapter083.txt',\n",
              " 'Chapter084.txt',\n",
              " 'Chapter085.txt',\n",
              " 'Chapter086.txt',\n",
              " 'Chapter087.txt',\n",
              " 'Chapter088.txt',\n",
              " 'Chapter089.txt',\n",
              " 'Chapter090.txt',\n",
              " 'Chapter091.txt',\n",
              " 'Chapter092.txt',\n",
              " 'Chapter093.txt',\n",
              " 'Chapter094.txt',\n",
              " 'Chapter095.txt',\n",
              " 'Chapter096.txt',\n",
              " 'Chapter097.txt',\n",
              " 'Chapter098.txt',\n",
              " 'Chapter099.txt',\n",
              " 'Chapter100.txt',\n",
              " 'Chapter101.txt',\n",
              " 'Chapter102.txt',\n",
              " 'Chapter103.txt',\n",
              " 'Chapter104.txt',\n",
              " 'Chapter105.txt',\n",
              " 'Chapter106.txt',\n",
              " 'Chapter107.txt',\n",
              " 'Chapter108.txt',\n",
              " 'Chapter109.txt',\n",
              " 'Chapter110.txt',\n",
              " 'Chapter111.txt',\n",
              " 'Chapter112.txt',\n",
              " 'Chapter113.txt',\n",
              " 'Chapter114.txt']"
            ]
          },
          "metadata": {},
          "execution_count": 16
        }
      ]
    },
    {
      "cell_type": "code",
      "source": [
        "  import re\n",
        "  cmudict = nltk.corpus.cmudict.dict()\n",
        "  def syllables(word):\n",
        "    if word in cmudict:\n",
        "      return len([p for p in cmudict[word][0] if p[-1].isdigit()])\n",
        "    else:\n",
        "      return len(re.findall(r'[aeiou]+', word))"
      ],
      "metadata": {
        "id": "tOeLBx6oOrg5"
      },
      "execution_count": null,
      "outputs": []
    },
    {
      "cell_type": "markdown",
      "source": [
        "RE = 206.835 - 84.6w - 1.015s, where w = number of sylllables per 100 words; s = average number of words per sentence.\n",
        "\n",
        "\n",
        "In this case, the higher the RE score, the easier the text."
      ],
      "metadata": {
        "id": "ecNy1VnkQEG1"
      }
    },
    {
      "cell_type": "code",
      "source": [
        "total_syllables_bg = 0\n",
        "\n",
        "for i in words_bg:\n",
        "  total_syllables_bg = total_syllables_bg + syllables(i)\n",
        "total_syllables_bg  "
      ],
      "metadata": {
        "colab": {
          "base_uri": "https://localhost:8080/"
        },
        "id": "1gHhy4oRPy0x",
        "outputId": "1ff3582c-79f6-4188-8bc9-1b121ef56443"
      },
      "execution_count": null,
      "outputs": [
        {
          "output_type": "execute_result",
          "data": {
            "text/plain": [
              "25032"
            ]
          },
          "metadata": {},
          "execution_count": 18
        }
      ]
    },
    {
      "cell_type": "code",
      "source": [
        "total_syllables_bible = 0\n",
        "\n",
        "for i in words_bible:\n",
        "  total_syllables_bible = total_syllables_bible + syllables(i)\n",
        "total_syllables_bible"
      ],
      "metadata": {
        "colab": {
          "base_uri": "https://localhost:8080/"
        },
        "id": "yD9j-K7DRAvY",
        "outputId": "75ca3983-75c6-4b0b-b2e3-19292b06c146"
      },
      "execution_count": null,
      "outputs": [
        {
          "output_type": "execute_result",
          "data": {
            "text/plain": [
              "988799"
            ]
          },
          "metadata": {},
          "execution_count": 19
        }
      ]
    },
    {
      "cell_type": "code",
      "source": [
        "total_syllables_quran = 0\n",
        "\n",
        "for i in words_quran:\n",
        "  total_syllables_quran = total_syllables_quran + syllables(i)\n",
        "total_syllables_quran"
      ],
      "metadata": {
        "colab": {
          "base_uri": "https://localhost:8080/"
        },
        "id": "lYy_BIHkRGS1",
        "outputId": "ff2d30a2-fa38-46e5-cfc4-755471344bc4"
      },
      "execution_count": null,
      "outputs": [
        {
          "output_type": "execute_result",
          "data": {
            "text/plain": [
              "185240"
            ]
          },
          "metadata": {},
          "execution_count": 20
        }
      ]
    },
    {
      "cell_type": "code",
      "source": [
        "sents_bg = list(iter(BGita.sents()))"
      ],
      "metadata": {
        "id": "i5W43L-yRhAi"
      },
      "execution_count": null,
      "outputs": []
    },
    {
      "cell_type": "code",
      "source": [
        "total_sents_bg = len(sents_bg) "
      ],
      "metadata": {
        "id": "uOl_s2uRS4_q"
      },
      "execution_count": null,
      "outputs": []
    },
    {
      "cell_type": "code",
      "source": [
        "sents_bible = list(iter(bible.sents()))\n",
        "total_sents_bible = len(sents_bible)"
      ],
      "metadata": {
        "id": "hQe_mfJsTqAW"
      },
      "execution_count": null,
      "outputs": []
    },
    {
      "cell_type": "code",
      "source": [
        "sents_quran = list(iter(quran.sents()))\n",
        "total_sents_quran = len(sents_quran)"
      ],
      "metadata": {
        "id": "8nfQWj6-UrjY"
      },
      "execution_count": null,
      "outputs": []
    },
    {
      "cell_type": "code",
      "source": [
        "def RE(words, sents, syllables):\n",
        "  return (206.865 - (1.015*(words/sents)) - 84.6*(syllables/words))\n",
        "\n",
        "RE_bg = RE(total_words_bg, total_sents_bg, total_syllables_bg)\n",
        "RE_bible = RE(total_words_bible, total_sents_bible, total_syllables_bible)\n",
        "RE_quran = RE(total_words_quran, total_sents_quran, total_syllables_quran)\n"
      ],
      "metadata": {
        "id": "TsgI1-rzXk1X"
      },
      "execution_count": null,
      "outputs": []
    },
    {
      "cell_type": "code",
      "source": [
        "print(RE_bg)\n",
        "print(RE_bible)\n",
        "print(RE_quran)"
      ],
      "metadata": {
        "colab": {
          "base_uri": "https://localhost:8080/"
        },
        "id": "U2wRxQV-Yvlx",
        "outputId": "bf8f5688-2d1f-4df3-9b6e-93ab1d606b57"
      },
      "execution_count": null,
      "outputs": [
        {
          "output_type": "stream",
          "name": "stdout",
          "text": [
            "85.66513126507158\n",
            "88.98136140699289\n",
            "106.59786335132912\n"
          ]
        }
      ]
    },
    {
      "cell_type": "code",
      "source": [
        "words_bg = [w for w in words_bg[:10000] if(w.isalpha())]\n",
        "words_bible = [w for w in words_bible[:10000] if(w.isalpha())]\n",
        "words_quran = [w for w in words_quran[:10000] if(w.isalpha())]"
      ],
      "metadata": {
        "id": "ZXouQBqTY7aO"
      },
      "execution_count": null,
      "outputs": []
    },
    {
      "cell_type": "code",
      "source": [
        "len_words_bg = []\n",
        "for i in words_bg:\n",
        "  len_words_bg.append(len(i))\n",
        "freq_bg = nltk.FreqDist(len_words_bg)\n",
        "\n",
        "len_words_bible = []\n",
        "for i in words_bible:\n",
        "  len_words_bible.append(len(i))\n",
        "freq_bible = nltk.FreqDist(len_words_bible)\n",
        "\n",
        "len_words_quran = []\n",
        "for i in words_quran:\n",
        "  len_words_quran.append(len(i))\n",
        "freq_quran = nltk.FreqDist(len_words_quran)"
      ],
      "metadata": {
        "id": "4LuhUP5e-n7d"
      },
      "execution_count": null,
      "outputs": []
    },
    {
      "cell_type": "code",
      "source": [
        "import matplotlib.pyplot as plt\n",
        "import numpy as np\n",
        "\n",
        "plt.plot(*zip(*sorted(dict(freq_bg).items())), label = \"Bhagavad Gita\")\n",
        "plt.plot(*zip(*sorted(dict(freq_bible).items())), label = \"Bible\")\n",
        "plt.plot(*zip(*sorted(dict(freq_quran).items())), label = \"Quran\")\n",
        "\n",
        "plt.xlabel(\"Word Length\")\n",
        "plt.ylabel(\"No. Of Words\")\n",
        "plt.title(\"Religious Books\")\n",
        "\n",
        "plt.xticks(np.arange(0,25,1))\n",
        "plt.legend()\n",
        "plt.show() "
      ],
      "metadata": {
        "colab": {
          "base_uri": "https://localhost:8080/",
          "height": 295
        },
        "id": "vzGF7m_5_D7W",
        "outputId": "867a07e2-8643-4698-c2be-33852e7087a7"
      },
      "execution_count": null,
      "outputs": [
        {
          "output_type": "display_data",
          "data": {
            "image/png": "[encoded data removed]",
            "text/plain": [
              "<Figure size 432x288 with 1 Axes>"
            ]
          },
          "metadata": {
            "needs_background": "light"
          }
        }
      ]
    },
    {
      "cell_type": "code",
      "source": [],
      "metadata": {
        "id": "PWTz0gbUHnRs"
      },
      "execution_count": null,
      "outputs": []
    }
  ]
}