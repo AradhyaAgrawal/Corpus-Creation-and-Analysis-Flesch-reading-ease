{
  "nbformat": 4,
  "nbformat_minor": 0,
  "metadata": {
    "colab": {
      "name": "BhagvadGita.ipynb",
      "provenance": []
    },
    "kernelspec": {
      "name": "python3",
      "display_name": "Python 3"
    },
    "language_info": {
      "name": "python"
    }
  },
  "cells": [
    {
      "cell_type": "code",
      "execution_count": null,
      "metadata": {
        "colab": {
          "base_uri": "https://localhost:8080/"
        },
        "id": "wMdc_5KnKgf3",
        "outputId": "6a2d5ebb-782f-424e-b98b-88040e7dccb7"
      },
      "outputs": [
        {
          "output_type": "execute_result",
          "data": {
            "text/plain": [
              "True"
            ]
          },
          "metadata": {},
          "execution_count": 1
        }
      ],
      "source": [
        "import nltk\n",
        "nltk.download('book', quiet=True)"
      ]
    },
    {
      "cell_type": "code",
      "source": [
        "nltk.download('averaged_perceptron_tagger', quiet=True)\n",
        "nltk.download('punkt', quiet=True)"
      ],
      "metadata": {
        "colab": {
          "base_uri": "https://localhost:8080/"
        },
        "id": "aUgSI9SoLGBq",
        "outputId": "01fe34f6-2705-4c06-e317-ae85a9862e0e"
      },
      "execution_count": null,
      "outputs": [
        {
          "output_type": "execute_result",
          "data": {
            "text/plain": [
              "True"
            ]
          },
          "metadata": {},
          "execution_count": 2
        }
      ]
    },
    {
      "cell_type": "code",
      "source": [
        "import requests\n",
        "from urllib.parse import urlsplit\n",
        "import urllib\n",
        "from bs4 import BeautifulSoup"
      ],
      "metadata": {
        "id": "MlPZFQ_5NaEW"
      },
      "execution_count": null,
      "outputs": []
    },
    {
      "cell_type": "code",
      "source": [
        "tagger = nltk.tag.perceptron.PerceptronTagger()\n",
        "url = 'https://www.gutenberg.org/files/2388/2388-h/2388-h.htm#chap04'\n",
        " \n",
        "soup = BeautifulSoup(requests.get(url).text, 'html.parser')\n",
        "# print(soup)\n",
        "gita = []\n",
        "for p in soup.find_all('p', class_=\"poem\"):\n",
        "  gita.append(p.get_text(strip = True))\n",
        "len(soup)\n",
        "# print(gita)"
      ],
      "metadata": {
        "id": "ToyG5OkoNblB",
        "colab": {
          "base_uri": "https://localhost:8080/"
        },
        "outputId": "d59e72e3-061d-4fbf-97b1-36b7332701e9"
      },
      "execution_count": null,
      "outputs": [
        {
          "output_type": "execute_result",
          "data": {
            "text/plain": [
              "4"
            ]
          },
          "metadata": {},
          "execution_count": 4
        }
      ]
    },
    {
      "cell_type": "code",
      "source": [
        "# gita = gita[:len(gita)-2]"
      ],
      "metadata": {
        "id": "SN3c5MQANdBf"
      },
      "execution_count": null,
      "outputs": []
    },
    {
      "cell_type": "code",
      "source": [
        "# len(gita)"
      ],
      "metadata": {
        "id": "I5PvD7RzNrSc"
      },
      "execution_count": null,
      "outputs": []
    },
    {
      "cell_type": "code",
      "source": [
        "# gita"
      ],
      "metadata": {
        "id": "Yiutd71_OJgn"
      },
      "execution_count": null,
      "outputs": []
    },
    {
      "cell_type": "code",
      "source": [
        "gita = []\n",
        "\n",
        "j = 1\n",
        "\n",
        "!mkdir -p Bhagavad_Gita\n",
        "\n",
        "# for p in soup.find_all('p', class_=\"poem\"):\n",
        "#   sent = [tagger.tag(nltk.word_tokenize(s))  \n",
        "#             for s in nltk.sent_tokenize(p.get_text(strip = True))]\n",
        "#   \n",
        "#   if(p.get_text().find(\"CHAPTER\") == True):\n",
        "#     print(\"If is Running\")\n",
        "    \n",
        "    # filename = 'Bhagavad_Gita/' + 'Chapter' + str(j) + '.txt'\n",
        "    # with open(filename, 'w') as f:\n",
        "    #   for s in gita:\n",
        "    #     for w,t in s:\n",
        "    #       print(f'{w}_{t}', end=' ', file=f)\n",
        "    #     print(file=f)\n",
        "#     j = j + 1    \n",
        "#     gita = []        \n",
        "\n",
        "#   else:\n",
        "#     gita.append(sent)\n",
        "    \n"
      ],
      "metadata": {
        "id": "E4-9xP8KPd0D"
      },
      "execution_count": null,
      "outputs": []
    },
    {
      "cell_type": "code",
      "source": [
        "gita = []\n",
        "\n",
        "j = 1\n",
        "\n",
        "for p in soup.find_all('p', class_=\"poem\"):\n",
        "  if(\"CHAPTER\" not in p.get_text()):\n",
        "    sent = [tagger.tag(nltk.word_tokenize(s))  \n",
        "              for s in nltk.sent_tokenize(p.get_text(strip = True))]\n",
        "    gita.append(sent)          \n",
        "  else:\n",
        "    # print(gita)\n",
        "    filename = 'Bhagavad_Gita/' + 'Chapter' + str(j) + '.txt'\n",
        "    j = j + 1\n",
        "    with open(filename, 'w') as f:\n",
        "      for s in gita:\n",
        "        for k in s:\n",
        "          for w,t in k:\n",
        "            print(f'{w}_{t}', end=' ', file=f)\n",
        "          print(file=f)\n",
        "    gita = []\n",
        "\n"
      ],
      "metadata": {
        "id": "3XdwJ-ya649D"
      },
      "execution_count": null,
      "outputs": []
    },
    {
      "cell_type": "code",
      "source": [
        "!zip -rq Bhagavad_Gita.zip Bhagavad_Gita"
      ],
      "metadata": {
        "id": "At_2mNynUqFu"
      },
      "execution_count": null,
      "outputs": []
    },
    {
      "cell_type": "code",
      "source": [
        "gita = []\n",
        "\n",
        "j = 1\n",
        "\n",
        "!mkdir -p Bhagavad_Gita_text_only\n",
        "\n",
        "for p in soup.find_all('p', class_=\"poem\"):\n",
        "  if(\"CHAPTER\" not in p.get_text()):\n",
        "    sent = [tagger.tag(nltk.word_tokenize(s))  \n",
        "              for s in nltk.sent_tokenize(p.get_text(strip = True))]\n",
        "    gita.append(sent)          \n",
        "  else:\n",
        "    # print(gita)\n",
        "    filename = 'Bhagavad_Gita_text_only/' + 'Chapter' + str(j) + '.txt'\n",
        "    j = j + 1\n",
        "    with open(filename, 'w') as f:\n",
        "      for s in gita:\n",
        "        for k in s:\n",
        "          for w,t in k:\n",
        "            print(f'{w}', end=' ', file=f)\n",
        "          print(file=f)\n",
        "    gita = []\n",
        "\n",
        "!zip -rq Bhagavad_Gita_text_only.zip Bhagavad_Gita_text_only"
      ],
      "metadata": {
        "id": "Nv3_kpgsV3At"
      },
      "execution_count": null,
      "outputs": []
    },
    {
      "cell_type": "code",
      "source": [],
      "metadata": {
        "id": "-y1ZYZKQXMmT"
      },
      "execution_count": null,
      "outputs": []
    }
  ]
}